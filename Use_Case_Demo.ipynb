{
 "cells": [
  {
   "cell_type": "markdown",
   "metadata": {},
   "source": [
    "### Banking Analytics Group Project——Foreign Exchange AI Agency Service (Demo)\n",
    "A0218936U Li Yongzhen"
   ]
  },
  {
   "cell_type": "markdown",
   "metadata": {},
   "source": [
    "### Purpose\n",
    "This notebook serves to show a demo of our foreign exchange agency service.\n",
    "We generate a 3-month contract(2017-01~2017-03) on exchanging Euros to USD dollars and simulate the auto-implementation of USD buying.\n",
    "The objective USD buying amount is set as $10000. "
   ]
  },
  {
   "cell_type": "code",
   "execution_count": 1,
   "metadata": {},
   "outputs": [],
   "source": [
    "import pandas as pd\n",
    "import numpy as np\n",
    "import matplotlib\n",
    "%matplotlib inline\n",
    "import matplotlib.pyplot as plt"
   ]
  },
  {
   "cell_type": "markdown",
   "metadata": {},
   "source": [
    "### Forecast Outcome\n",
    "File prediction_weekly.csv contains the weekly prediction of eur-usd exchange rate. File EURUSD_M15_predictions.csv contains the 15-minute-interval prediction of eur-usd exchange rate. The weekly prediction is obtained before the start of the contract, and the 15-minute-interval prediction is predicted on an up-to-date rolling basis."
   ]
  },
  {
   "cell_type": "code",
   "execution_count": 2,
   "metadata": {},
   "outputs": [],
   "source": [
    "fore_df = pd.read_csv('prediction.csv')"
   ]
  },
  {
   "cell_type": "code",
   "execution_count": 3,
   "metadata": {},
   "outputs": [
    {
     "data": {
      "text/html": [
       "<div>\n",
       "<style scoped>\n",
       "    .dataframe tbody tr th:only-of-type {\n",
       "        vertical-align: middle;\n",
       "    }\n",
       "\n",
       "    .dataframe tbody tr th {\n",
       "        vertical-align: top;\n",
       "    }\n",
       "\n",
       "    .dataframe thead th {\n",
       "        text-align: right;\n",
       "    }\n",
       "</style>\n",
       "<table border=\"1\" class=\"dataframe\">\n",
       "  <thead>\n",
       "    <tr style=\"text-align: right;\">\n",
       "      <th></th>\n",
       "      <th>Unnamed: 0</th>\n",
       "      <th>Date</th>\n",
       "      <th>EURO_USD</th>\n",
       "      <th>Prediction</th>\n",
       "      <th>lower_bounds</th>\n",
       "      <th>upper_bounds</th>\n",
       "    </tr>\n",
       "  </thead>\n",
       "  <tbody>\n",
       "    <tr>\n",
       "      <th>0</th>\n",
       "      <td>574</td>\n",
       "      <td>2017-01-02</td>\n",
       "      <td>1.050786</td>\n",
       "      <td>1.051443</td>\n",
       "      <td>1.023636</td>\n",
       "      <td>1.079250</td>\n",
       "    </tr>\n",
       "    <tr>\n",
       "      <th>1</th>\n",
       "      <td>575</td>\n",
       "      <td>2017-01-09</td>\n",
       "      <td>1.060686</td>\n",
       "      <td>1.054140</td>\n",
       "      <td>1.008944</td>\n",
       "      <td>1.099337</td>\n",
       "    </tr>\n",
       "    <tr>\n",
       "      <th>2</th>\n",
       "      <td>576</td>\n",
       "      <td>2017-01-16</td>\n",
       "      <td>1.064371</td>\n",
       "      <td>1.056633</td>\n",
       "      <td>0.997838</td>\n",
       "      <td>1.115428</td>\n",
       "    </tr>\n",
       "    <tr>\n",
       "      <th>3</th>\n",
       "      <td>577</td>\n",
       "      <td>2017-01-23</td>\n",
       "      <td>1.070700</td>\n",
       "      <td>1.059047</td>\n",
       "      <td>0.989111</td>\n",
       "      <td>1.128982</td>\n",
       "    </tr>\n",
       "    <tr>\n",
       "      <th>4</th>\n",
       "      <td>578</td>\n",
       "      <td>2017-01-30</td>\n",
       "      <td>1.074371</td>\n",
       "      <td>1.061417</td>\n",
       "      <td>0.981997</td>\n",
       "      <td>1.140838</td>\n",
       "    </tr>\n",
       "  </tbody>\n",
       "</table>\n",
       "</div>"
      ],
      "text/plain": [
       "   Unnamed: 0        Date  EURO_USD  Prediction  lower_bounds  upper_bounds\n",
       "0         574  2017-01-02  1.050786    1.051443      1.023636      1.079250\n",
       "1         575  2017-01-09  1.060686    1.054140      1.008944      1.099337\n",
       "2         576  2017-01-16  1.064371    1.056633      0.997838      1.115428\n",
       "3         577  2017-01-23  1.070700    1.059047      0.989111      1.128982\n",
       "4         578  2017-01-30  1.074371    1.061417      0.981997      1.140838"
      ]
     },
     "execution_count": 3,
     "metadata": {},
     "output_type": "execute_result"
    }
   ],
   "source": [
    "fore_df.head()"
   ]
  },
  {
   "cell_type": "code",
   "execution_count": 4,
   "metadata": {},
   "outputs": [],
   "source": [
    "fore_df.drop(columns=['Unnamed: 0'],inplace=True)"
   ]
  },
  {
   "cell_type": "code",
   "execution_count": 5,
   "metadata": {},
   "outputs": [],
   "source": [
    "fore_df.set_index('Date',inplace=True)"
   ]
  },
  {
   "cell_type": "code",
   "execution_count": 6,
   "metadata": {},
   "outputs": [
    {
     "data": {
      "text/plain": [
       "Index(['2017-01-02', '2017-01-09', '2017-01-16', '2017-01-23', '2017-01-30',\n",
       "       '2017-02-06', '2017-02-13', '2017-02-20', '2017-02-27', '2017-03-06',\n",
       "       '2017-03-13', '2017-03-20', '2017-03-27'],\n",
       "      dtype='object', name='Date')"
      ]
     },
     "execution_count": 6,
     "metadata": {},
     "output_type": "execute_result"
    }
   ],
   "source": [
    "fore_df.index"
   ]
  },
  {
   "cell_type": "code",
   "execution_count": 7,
   "metadata": {},
   "outputs": [
    {
     "data": {
      "text/plain": [
       "<AxesSubplot:xlabel='Date'>"
      ]
     },
     "execution_count": 7,
     "metadata": {},
     "output_type": "execute_result"
    },
    {
     "data": {
      "image/png": "[encoded data removed]",
      "text/plain": [
       "<Figure size 720x576 with 1 Axes>"
      ]
     },
     "metadata": {
      "needs_background": "light"
     },
     "output_type": "display_data"
    }
   ],
   "source": [
    "fore_df.plot(figsize=(10,8))"
   ]
  },
  {
   "cell_type": "code",
   "execution_count": 8,
   "metadata": {},
   "outputs": [
    {
     "name": "stdout",
     "output_type": "stream",
     "text": [
      "RMSE:  0.008720053473342307\n",
      "MAPE:  0.6837596341240394\n"
     ]
    }
   ],
   "source": [
    "from sklearn.metrics import mean_squared_error\n",
    "\n",
    "def mape(y_true,y_pred):\n",
    "    return 100*np.mean(np.abs(y_true-y_pred)/y_true)\n",
    "\n",
    "y_true = fore_df['EURO_USD'].values\n",
    "y_pred = fore_df['Prediction'].values\n",
    "\n",
    "print(\"RMSE: \", mean_squared_error(y_true,y_pred,squared=False))\n",
    "print(\"MAPE: \", mape(y_true,y_pred))\n"
   ]
  },
  {
   "cell_type": "code",
   "execution_count": 9,
   "metadata": {},
   "outputs": [],
   "source": [
    "pred_df = pd.read_csv('EURUSD_M15_predictions.csv')"
   ]
  },
  {
   "cell_type": "code",
   "execution_count": 10,
   "metadata": {},
   "outputs": [
    {
     "data": {
      "text/html": [
       "<div>\n",
       "<style scoped>\n",
       "    .dataframe tbody tr th:only-of-type {\n",
       "        vertical-align: middle;\n",
       "    }\n",
       "\n",
       "    .dataframe tbody tr th {\n",
       "        vertical-align: top;\n",
       "    }\n",
       "\n",
       "    .dataframe thead th {\n",
       "        text-align: right;\n",
       "    }\n",
       "</style>\n",
       "<table border=\"1\" class=\"dataframe\">\n",
       "  <thead>\n",
       "    <tr style=\"text-align: right;\">\n",
       "      <th></th>\n",
       "      <th>timestamp</th>\n",
       "      <th>predicted</th>\n",
       "      <th>close</th>\n",
       "      <th>low</th>\n",
       "      <th>high</th>\n",
       "      <th>diff</th>\n",
       "      <th>correct</th>\n",
       "      <th>percentage_error</th>\n",
       "      <th>error_to_range</th>\n",
       "      <th>lag1_mape</th>\n",
       "    </tr>\n",
       "  </thead>\n",
       "  <tbody>\n",
       "    <tr>\n",
       "      <th>0</th>\n",
       "      <td>2017-01-02 05:00:00</td>\n",
       "      <td>1.052039</td>\n",
       "      <td>1.05171</td>\n",
       "      <td>1.05171</td>\n",
       "      <td>1.05144</td>\n",
       "      <td>0.000329</td>\n",
       "      <td>False</td>\n",
       "      <td>0.031252</td>\n",
       "      <td>1.217316</td>\n",
       "      <td>-100.000000</td>\n",
       "    </tr>\n",
       "    <tr>\n",
       "      <th>1</th>\n",
       "      <td>2017-01-02 05:15:00</td>\n",
       "      <td>1.052071</td>\n",
       "      <td>1.05151</td>\n",
       "      <td>1.05171</td>\n",
       "      <td>1.05138</td>\n",
       "      <td>0.000561</td>\n",
       "      <td>False</td>\n",
       "      <td>0.053395</td>\n",
       "      <td>1.701387</td>\n",
       "      <td>0.031252</td>\n",
       "    </tr>\n",
       "    <tr>\n",
       "      <th>2</th>\n",
       "      <td>2017-01-02 05:30:00</td>\n",
       "      <td>1.052083</td>\n",
       "      <td>1.05180</td>\n",
       "      <td>1.05188</td>\n",
       "      <td>1.05130</td>\n",
       "      <td>0.000283</td>\n",
       "      <td>False</td>\n",
       "      <td>0.026897</td>\n",
       "      <td>0.487762</td>\n",
       "      <td>0.042323</td>\n",
       "    </tr>\n",
       "    <tr>\n",
       "      <th>3</th>\n",
       "      <td>2017-01-02 05:45:00</td>\n",
       "      <td>1.052094</td>\n",
       "      <td>1.05184</td>\n",
       "      <td>1.05214</td>\n",
       "      <td>1.05142</td>\n",
       "      <td>0.000254</td>\n",
       "      <td>True</td>\n",
       "      <td>0.024136</td>\n",
       "      <td>0.352596</td>\n",
       "      <td>0.037181</td>\n",
       "    </tr>\n",
       "    <tr>\n",
       "      <th>4</th>\n",
       "      <td>2017-01-02 06:00:00</td>\n",
       "      <td>1.052134</td>\n",
       "      <td>1.05179</td>\n",
       "      <td>1.05190</td>\n",
       "      <td>1.05130</td>\n",
       "      <td>0.000344</td>\n",
       "      <td>False</td>\n",
       "      <td>0.032688</td>\n",
       "      <td>0.573007</td>\n",
       "      <td>0.033920</td>\n",
       "    </tr>\n",
       "  </tbody>\n",
       "</table>\n",
       "</div>"
      ],
      "text/plain": [
       "             timestamp  predicted    close      low     high      diff  \\\n",
       "0  2017-01-02 05:00:00   1.052039  1.05171  1.05171  1.05144  0.000329   \n",
       "1  2017-01-02 05:15:00   1.052071  1.05151  1.05171  1.05138  0.000561   \n",
       "2  2017-01-02 05:30:00   1.052083  1.05180  1.05188  1.05130  0.000283   \n",
       "3  2017-01-02 05:45:00   1.052094  1.05184  1.05214  1.05142  0.000254   \n",
       "4  2017-01-02 06:00:00   1.052134  1.05179  1.05190  1.05130  0.000344   \n",
       "\n",
       "   correct  percentage_error  error_to_range   lag1_mape  \n",
       "0    False          0.031252        1.217316 -100.000000  \n",
       "1    False          0.053395        1.701387    0.031252  \n",
       "2    False          0.026897        0.487762    0.042323  \n",
       "3     True          0.024136        0.352596    0.037181  \n",
       "4    False          0.032688        0.573007    0.033920  "
      ]
     },
     "execution_count": 10,
     "metadata": {},
     "output_type": "execute_result"
    }
   ],
   "source": [
    "pred_df.head()"
   ]
  },
  {
   "cell_type": "code",
   "execution_count": 11,
   "metadata": {},
   "outputs": [],
   "source": [
    "#lag1_mape=[-1]\n",
    "#pct_errs=pred_df.percentage_error.values\n",
    "#for i in range(1,len(pct_errs)):\n",
    "    #lag1_mape.append(sum(pct_errs[:i])/i)\n",
    "#pred_df['lag1_mape']=np.array(lag1_mape)"
   ]
  },
  {
   "cell_type": "code",
   "execution_count": 12,
   "metadata": {},
   "outputs": [],
   "source": [
    "#pred_df.to_csv('EURUSD_M15_predictions.csv')"
   ]
  },
  {
   "cell_type": "code",
   "execution_count": 13,
   "metadata": {},
   "outputs": [],
   "source": [
    "#pred_df.percentage_error=pred_df.percentage_error*100\n",
    "#pred_df.lag1_mape = pred_df.lag1_mape*100"
   ]
  },
  {
   "cell_type": "code",
   "execution_count": 14,
   "metadata": {},
   "outputs": [],
   "source": [
    "pred_df.set_index('timestamp',inplace=True)"
   ]
  },
  {
   "cell_type": "code",
   "execution_count": 15,
   "metadata": {},
   "outputs": [
    {
     "data": {
      "text/plain": [
       "'2017-03-31 23:30:00'"
      ]
     },
     "execution_count": 15,
     "metadata": {},
     "output_type": "execute_result"
    }
   ],
   "source": [
    "pred_df.index.values[-1]"
   ]
  },
  {
   "cell_type": "markdown",
   "metadata": {},
   "source": [
    "### Set the Contract\n",
    "We offered two plans for settng the goal of a contract.Plan A is more conservative, and can be used both when predicted price is better than current price and when predicted price is worse than current price. Plan B is more progressive, and should be used only when predicted price is better than current price."
   ]
  },
  {
   "cell_type": "markdown",
   "metadata": {},
   "source": [
    "plan A: objective exchange rate = predicted exchange rate - last period std * current exchange rate"
   ]
  },
  {
   "cell_type": "code",
   "execution_count": 16,
   "metadata": {},
   "outputs": [
    {
     "data": {
      "text/html": [
       "<div>\n",
       "<style scoped>\n",
       "    .dataframe tbody tr th:only-of-type {\n",
       "        vertical-align: middle;\n",
       "    }\n",
       "\n",
       "    .dataframe tbody tr th {\n",
       "        vertical-align: top;\n",
       "    }\n",
       "\n",
       "    .dataframe thead th {\n",
       "        text-align: right;\n",
       "    }\n",
       "</style>\n",
       "<table border=\"1\" class=\"dataframe\">\n",
       "  <thead>\n",
       "    <tr style=\"text-align: right;\">\n",
       "      <th></th>\n",
       "      <th>Date</th>\n",
       "      <th>EURO_USD</th>\n",
       "    </tr>\n",
       "  </thead>\n",
       "  <tbody>\n",
       "    <tr>\n",
       "      <th>0</th>\n",
       "      <td>27-Mar-17</td>\n",
       "      <td>1.076917</td>\n",
       "    </tr>\n",
       "    <tr>\n",
       "      <th>1</th>\n",
       "      <td>20-Mar-17</td>\n",
       "      <td>1.079457</td>\n",
       "    </tr>\n",
       "    <tr>\n",
       "      <th>2</th>\n",
       "      <td>13-Mar-17</td>\n",
       "      <td>1.069329</td>\n",
       "    </tr>\n",
       "    <tr>\n",
       "      <th>3</th>\n",
       "      <td>6-Mar-17</td>\n",
       "      <td>1.058471</td>\n",
       "    </tr>\n",
       "    <tr>\n",
       "      <th>4</th>\n",
       "      <td>27-Feb-17</td>\n",
       "      <td>1.056086</td>\n",
       "    </tr>\n",
       "  </tbody>\n",
       "</table>\n",
       "</div>"
      ],
      "text/plain": [
       "        Date  EURO_USD\n",
       "0  27-Mar-17  1.076917\n",
       "1  20-Mar-17  1.079457\n",
       "2  13-Mar-17  1.069329\n",
       "3   6-Mar-17  1.058471\n",
       "4  27-Feb-17  1.056086"
      ]
     },
     "execution_count": 16,
     "metadata": {},
     "output_type": "execute_result"
    }
   ],
   "source": [
    "weekly_df = pd.read_csv('Weekly_Value.csv')\n",
    "weekly_df.head()"
   ]
  },
  {
   "cell_type": "code",
   "execution_count": 17,
   "metadata": {},
   "outputs": [
    {
     "data": {
      "text/html": [
       "<div>\n",
       "<style scoped>\n",
       "    .dataframe tbody tr th:only-of-type {\n",
       "        vertical-align: middle;\n",
       "    }\n",
       "\n",
       "    .dataframe tbody tr th {\n",
       "        vertical-align: top;\n",
       "    }\n",
       "\n",
       "    .dataframe thead th {\n",
       "        text-align: right;\n",
       "    }\n",
       "</style>\n",
       "<table border=\"1\" class=\"dataframe\">\n",
       "  <thead>\n",
       "    <tr style=\"text-align: right;\">\n",
       "      <th></th>\n",
       "      <th>EURO_USD</th>\n",
       "    </tr>\n",
       "    <tr>\n",
       "      <th>Date</th>\n",
       "      <th></th>\n",
       "    </tr>\n",
       "  </thead>\n",
       "  <tbody>\n",
       "    <tr>\n",
       "      <th>2006-01-02</th>\n",
       "      <td>1.202157</td>\n",
       "    </tr>\n",
       "    <tr>\n",
       "      <th>2006-01-09</th>\n",
       "      <td>1.206571</td>\n",
       "    </tr>\n",
       "    <tr>\n",
       "      <th>2006-01-16</th>\n",
       "      <td>1.208414</td>\n",
       "    </tr>\n",
       "    <tr>\n",
       "      <th>2006-01-23</th>\n",
       "      <td>1.223043</td>\n",
       "    </tr>\n",
       "    <tr>\n",
       "      <th>2006-01-30</th>\n",
       "      <td>1.207729</td>\n",
       "    </tr>\n",
       "  </tbody>\n",
       "</table>\n",
       "</div>"
      ],
      "text/plain": [
       "            EURO_USD\n",
       "Date                \n",
       "2006-01-02  1.202157\n",
       "2006-01-09  1.206571\n",
       "2006-01-16  1.208414\n",
       "2006-01-23  1.223043\n",
       "2006-01-30  1.207729"
      ]
     },
     "execution_count": 17,
     "metadata": {},
     "output_type": "execute_result"
    }
   ],
   "source": [
    "weekly_df.Date = pd.to_datetime(weekly_df.Date)\n",
    "weekly_df = weekly_df.set_index('Date')\n",
    "weekly_df = weekly_df.sort_index(ascending=True)\n",
    "weekly_df.head()"
   ]
  },
  {
   "cell_type": "code",
   "execution_count": 18,
   "metadata": {},
   "outputs": [
    {
     "data": {
      "text/html": [
       "<div>\n",
       "<style scoped>\n",
       "    .dataframe tbody tr th:only-of-type {\n",
       "        vertical-align: middle;\n",
       "    }\n",
       "\n",
       "    .dataframe tbody tr th {\n",
       "        vertical-align: top;\n",
       "    }\n",
       "\n",
       "    .dataframe thead th {\n",
       "        text-align: right;\n",
       "    }\n",
       "</style>\n",
       "<table border=\"1\" class=\"dataframe\">\n",
       "  <thead>\n",
       "    <tr style=\"text-align: right;\">\n",
       "      <th></th>\n",
       "      <th>EURO_USD</th>\n",
       "    </tr>\n",
       "    <tr>\n",
       "      <th>Date</th>\n",
       "      <th></th>\n",
       "    </tr>\n",
       "  </thead>\n",
       "  <tbody>\n",
       "    <tr>\n",
       "      <th>2016-10-03</th>\n",
       "      <td>1.117329</td>\n",
       "    </tr>\n",
       "    <tr>\n",
       "      <th>2016-10-10</th>\n",
       "      <td>1.104329</td>\n",
       "    </tr>\n",
       "    <tr>\n",
       "      <th>2016-10-17</th>\n",
       "      <td>1.094343</td>\n",
       "    </tr>\n",
       "    <tr>\n",
       "      <th>2016-10-24</th>\n",
       "      <td>1.091157</td>\n",
       "    </tr>\n",
       "    <tr>\n",
       "      <th>2016-10-31</th>\n",
       "      <td>1.105843</td>\n",
       "    </tr>\n",
       "  </tbody>\n",
       "</table>\n",
       "</div>"
      ],
      "text/plain": [
       "            EURO_USD\n",
       "Date                \n",
       "2016-10-03  1.117329\n",
       "2016-10-10  1.104329\n",
       "2016-10-17  1.094343\n",
       "2016-10-24  1.091157\n",
       "2016-10-31  1.105843"
      ]
     },
     "execution_count": 18,
     "metadata": {},
     "output_type": "execute_result"
    }
   ],
   "source": [
    "lst_3m_df = weekly_df[weekly_df.index>='2016-10-01']\n",
    "lst_3m_df = lst_3m_df[lst_3m_df.index<'2017-01-01']\n",
    "lst_3m_df.head()"
   ]
  },
  {
   "cell_type": "code",
   "execution_count": 19,
   "metadata": {},
   "outputs": [
    {
     "name": "stdout",
     "output_type": "stream",
     "text": [
      "Amount to Buy: 10000 USD\n",
      "Execution Time Frame: from 2017-01-01 to 2017-03-31\n",
      "Guaranteed Exchange Rate: 1.052134 \n",
      "Authorizd Euro: 9505.0 EURO\n",
      "If Buy Now: 9541.0 EURO\n",
      "Commission Fee: 22.75 EURO\n"
     ]
    }
   ],
   "source": [
    "contract_usd = 10000\n",
    "cur_fr=lst_3m_df.EURO_USD.values[-1]\n",
    "std_lst3m = np.nanstd(lst_3m_df.EURO_USD.values)\n",
    "pred_3m = np.sort(fore_df.Prediction.values.tolist())[-2]# use the second maximum as buffer \n",
    "\n",
    "obj_fr_1 = pred_3m - std_lst3m * cur_fr\n",
    "contract_eur_1 = contract_usd/obj_fr_1\n",
    "current_eur_1 = contract_usd/cur_fr\n",
    "commission_fee_1 = np.maximum(std_lst3m*contract_eur_1*0.1,contract_eur_1*0.0015)\n",
    "print('Amount to Buy: 10000 USD')\n",
    "print('Execution Time Frame: from 2017-01-01 to 2017-03-31')\n",
    "print('Guaranteed Exchange Rate: {} '.format(np.round(obj_fr_1,6)))\n",
    "print('Authorizd Euro: {} EURO'.format(np.ceil(contract_eur_1)))\n",
    "print('If Buy Now: {} EURO'.format(np.ceil(current_eur_1)))\n",
    "print('Commission Fee: {} EURO'.format(np.round(commission_fee_1,2)))"
   ]
  },
  {
   "cell_type": "markdown",
   "metadata": {},
   "source": [
    "plan B: objective exchange rate = 0.75 * predicted exchange rate + 0.25 * current exchange rate"
   ]
  },
  {
   "cell_type": "code",
   "execution_count": 20,
   "metadata": {},
   "outputs": [
    {
     "name": "stdout",
     "output_type": "stream",
     "text": [
      "Amount to Buy: 10000 USD\n",
      "Execution Time Frame: from 2017-01-01 to 2017-03-31\n",
      "Guaranteed Exchange Rate: 1.069948 \n",
      "Authorizd Euro: 9347.0 EURO\n",
      "If Buy Now: 9541.0 EURO\n",
      "Commission Fee: 22.38 EURO\n"
     ]
    }
   ],
   "source": [
    "obj_fr_2 = 0.75 * pred_3m + 0.25 * cur_fr\n",
    "contract_eur_2 = contract_usd/obj_fr_2\n",
    "current_eur_2 = contract_usd/cur_fr\n",
    "commission_fee_2 = np.maximum(std_lst3m*contract_eur_2*0.1,contract_eur_2*0.0015)\n",
    "print('Amount to Buy: 10000 USD')\n",
    "print('Execution Time Frame: from 2017-01-01 to 2017-03-31')\n",
    "print('Guaranteed Exchange Rate: {} '.format(np.round(obj_fr_2,6)))\n",
    "print('Authorizd Euro: {} EURO'.format(np.ceil(contract_eur_2)))\n",
    "print('If Buy Now: {} EURO'.format(np.ceil(current_eur_2)))\n",
    "print('Commission Fee: {} EURO'.format(np.round(commission_fee_2,2)))"
   ]
  },
  {
   "cell_type": "code",
   "execution_count": 21,
   "metadata": {},
   "outputs": [],
   "source": [
    "def set_contract(plan_type,task,cur_fr,std_lst,predictions):\n",
    "    \n",
    "    pred = np.sort(predictions)[-2]# use the second maximum as buffer\n",
    "    \n",
    "    if plan_type=='A': \n",
    "        obj_fr = pred - std_lst * cur_fr\n",
    "        contract_resource = task/obj_fr\n",
    "        \n",
    "    if plan_type=='B':\n",
    "        obj_fr = 0.75 * pred + 0.25 * cur_fr\n",
    "        contract_resource = task/obj_fr\n",
    "        \n",
    "    return np.round(obj_fr,6),np.ceil(contract_resource)"
   ]
  },
  {
   "cell_type": "code",
   "execution_count": 22,
   "metadata": {},
   "outputs": [
    {
     "data": {
      "text/plain": [
       "(1.052134, 9505.0)"
      ]
     },
     "execution_count": 22,
     "metadata": {},
     "output_type": "execute_result"
    }
   ],
   "source": [
    "set_contract('A',10000,cur_fr,std_lst3m,fore_df.Prediction.values)"
   ]
  },
  {
   "cell_type": "markdown",
   "metadata": {},
   "source": [
    "### Set Weekly Objective (Before Execution)\n",
    "#### Schedule Execution Tasks Based on Divide and Conquer Strategy for Risk Distribution across Time  "
   ]
  },
  {
   "cell_type": "code",
   "execution_count": 23,
   "metadata": {},
   "outputs": [],
   "source": [
    "obj_fr = obj_fr_1\n",
    "pred_wk = fore_df['Prediction']"
   ]
  },
  {
   "cell_type": "code",
   "execution_count": 24,
   "metadata": {},
   "outputs": [
    {
     "name": "stdout",
     "output_type": "stream",
     "text": [
      "Number of Weekly Objectives:  13\n"
     ]
    }
   ],
   "source": [
    "print('Number of Weekly Objectives: ',len(pred_wk))"
   ]
  },
  {
   "cell_type": "code",
   "execution_count": 25,
   "metadata": {},
   "outputs": [],
   "source": [
    "class ObjectiveScheduler(object):\n",
    "    \n",
    "    def __init__(self,resource,task,obj_fr,pred_table):#service_type\n",
    "        \n",
    "        self.total = len(pred_table)\n",
    "        assert self.total>1\n",
    "        self.resource = resource\n",
    "        self.task = task\n",
    "        self.obj_fr = obj_fr\n",
    "        self.predictions = pred_table.Prediction.values\n",
    "        #self.service_type = service_type\n",
    "        self.obj_table = pd.DataFrame({'Date':pred_table.index.values,'Bench_Pred':pred_table.Prediction.values,\n",
    "                                       'Execution_Amount':np.zeros(self.total),'Remaining_Resource':np.zeros(self.total),\n",
    "                                       'Executed_Task':np.zeros(self.total),'Remaining_Task':np.zeros(self.total)})\n",
    "    \n",
    "    def get_objective(self,ordinal,obj_name):\n",
    "        df = self.obj_table\n",
    "        return df.loc[ordinal,obj_name]\n",
    "    \n",
    "    def set_objective(self,ordinal):\n",
    "        assert ordinal>=0\n",
    "        \n",
    "        preds = self.predictions\n",
    "        std = np.std(preds)\n",
    "        gap = np.max(preds) - np.min(preds)\n",
    "        pred_fr = preds[ordinal]\n",
    "        \n",
    "        if ordinal==0:\n",
    "            #exe_amnt=0\n",
    "            rem_amnt=self.resource\n",
    "            resource = rem_amnt\n",
    "            #div_tsk=0\n",
    "            rem_tsk=self.task\n",
    "            distance = rem_tsk\n",
    "        else:\n",
    "            distance = self.get_objective(ordinal-1,'Remaining_Task')\n",
    "            resource = self.get_objective(ordinal-1,'Remaining_Resource')\n",
    "            \n",
    "        if distance==0:\n",
    "            div_tsk = 0\n",
    "            exe_amnt= 0\n",
    "            rem_amnt = resource\n",
    "            rem_tsk = 0\n",
    "            return div_tsk,exe_amnt,rem_amnt,rem_tsk\n",
    "            \n",
    "        if ordinal == self.total-1:\n",
    "            div_tsk=distance # for the last period, all remaining task should be executed\n",
    "        \n",
    "        # task is scheduled according to the difference between the objective exchange rate and the predicted rate\n",
    "        else:\n",
    "            if pred_fr <= obj_fr - std:\n",
    "                diff = self.obj_fr - pred_fr\n",
    "                div_tsk = np.round(min(self.task/self.total * (1-diff/gap),distance),2)\n",
    "            \n",
    "            elif obj_fr-std<pred_fr<=pred_fr+std:\n",
    "                div_tsk = np.round(min(self.task/self.total,distance),2)\n",
    "            \n",
    "            else:\n",
    "                diff = pred_fr-self.obj_fr\n",
    "                div_tsk = np.round(min(self.task/self.total*(1+diff/gap),distance),2)\n",
    "        \n",
    "        exe_amnt = np.round(div_tsk/pred_fr,2)\n",
    "        rem_amnt = resource-exe_amnt\n",
    "        rem_tsk = distance-div_tsk\n",
    "        \n",
    "        return exe_amnt,rem_amnt,div_tsk,rem_tsk\n",
    "    \n",
    "    def make_schedule(self):\n",
    "        for ordinal in range(self.total):\n",
    "            exe_amnt,rem_amnt,div_tsk,rem_tsk = self.set_objective(ordinal)\n",
    "            self.obj_table.loc[ordinal,'Execution_Amount']=exe_amnt\n",
    "            self.obj_table.loc[ordinal,'Remaining_Resource']=rem_amnt\n",
    "            self.obj_table.loc[ordinal,'Executed_Task']=div_tsk\n",
    "            self.obj_table.loc[ordinal,'Remaining_Task']=rem_tsk\n",
    "            #self.obj_table.set_index('Date',inplace=True)\n",
    "        return self.obj_table\n",
    "    \n",
    "    def eval_obj(self):\n",
    "        self.make_schedule()\n",
    "        resource_left = self.obj_table.Remaining_Resource.values[-1]\n",
    "        task_left = self.obj_table.Remaining_Task.values[-1]\n",
    "        if task_left!=0:\n",
    "            print('Schedule Error')\n",
    "            return\n",
    "        if resource_left<0:\n",
    "            print('Unattainable Goal. ')\n",
    "            print('Estimated Loss Taken by Bank: ',-np.round(resource_left,2))\n",
    "        else:\n",
    "            print('Attainable Goal.')\n",
    "            print('Estimated Extra Saving for Customer: ',np.round(resource_left,2))\n",
    "        return\n",
    "        "
   ]
  },
  {
   "cell_type": "markdown",
   "metadata": {},
   "source": [
    "#### Try Plan A of Contract Setting"
   ]
  },
  {
   "cell_type": "code",
   "execution_count": 26,
   "metadata": {},
   "outputs": [
    {
     "data": {
      "text/html": [
       "<div>\n",
       "<style scoped>\n",
       "    .dataframe tbody tr th:only-of-type {\n",
       "        vertical-align: middle;\n",
       "    }\n",
       "\n",
       "    .dataframe tbody tr th {\n",
       "        vertical-align: top;\n",
       "    }\n",
       "\n",
       "    .dataframe thead th {\n",
       "        text-align: right;\n",
       "    }\n",
       "</style>\n",
       "<table border=\"1\" class=\"dataframe\">\n",
       "  <thead>\n",
       "    <tr style=\"text-align: right;\">\n",
       "      <th></th>\n",
       "      <th>Date</th>\n",
       "      <th>Bench_Pred</th>\n",
       "      <th>Execution_Amount</th>\n",
       "      <th>Remaining_Resource</th>\n",
       "      <th>Executed_Task</th>\n",
       "      <th>Remaining_Task</th>\n",
       "    </tr>\n",
       "  </thead>\n",
       "  <tbody>\n",
       "    <tr>\n",
       "      <th>0</th>\n",
       "      <td>2017-01-02</td>\n",
       "      <td>1.051443</td>\n",
       "      <td>731.59</td>\n",
       "      <td>8773.41</td>\n",
       "      <td>769.23</td>\n",
       "      <td>9230.77</td>\n",
       "    </tr>\n",
       "    <tr>\n",
       "      <th>1</th>\n",
       "      <td>2017-01-09</td>\n",
       "      <td>1.054140</td>\n",
       "      <td>729.72</td>\n",
       "      <td>8043.69</td>\n",
       "      <td>769.23</td>\n",
       "      <td>8461.54</td>\n",
       "    </tr>\n",
       "    <tr>\n",
       "      <th>2</th>\n",
       "      <td>2017-01-16</td>\n",
       "      <td>1.056633</td>\n",
       "      <td>728.00</td>\n",
       "      <td>7315.69</td>\n",
       "      <td>769.23</td>\n",
       "      <td>7692.31</td>\n",
       "    </tr>\n",
       "    <tr>\n",
       "      <th>3</th>\n",
       "      <td>2017-01-23</td>\n",
       "      <td>1.059047</td>\n",
       "      <td>726.34</td>\n",
       "      <td>6589.35</td>\n",
       "      <td>769.23</td>\n",
       "      <td>6923.08</td>\n",
       "    </tr>\n",
       "    <tr>\n",
       "      <th>4</th>\n",
       "      <td>2017-01-30</td>\n",
       "      <td>1.061417</td>\n",
       "      <td>724.72</td>\n",
       "      <td>5864.63</td>\n",
       "      <td>769.23</td>\n",
       "      <td>6153.85</td>\n",
       "    </tr>\n",
       "    <tr>\n",
       "      <th>5</th>\n",
       "      <td>2017-02-06</td>\n",
       "      <td>1.063756</td>\n",
       "      <td>723.13</td>\n",
       "      <td>5141.50</td>\n",
       "      <td>769.23</td>\n",
       "      <td>5384.62</td>\n",
       "    </tr>\n",
       "    <tr>\n",
       "      <th>6</th>\n",
       "      <td>2017-02-13</td>\n",
       "      <td>1.066067</td>\n",
       "      <td>721.56</td>\n",
       "      <td>4419.94</td>\n",
       "      <td>769.23</td>\n",
       "      <td>4615.39</td>\n",
       "    </tr>\n",
       "    <tr>\n",
       "      <th>7</th>\n",
       "      <td>2017-02-20</td>\n",
       "      <td>1.068351</td>\n",
       "      <td>720.02</td>\n",
       "      <td>3699.92</td>\n",
       "      <td>769.23</td>\n",
       "      <td>3846.16</td>\n",
       "    </tr>\n",
       "    <tr>\n",
       "      <th>8</th>\n",
       "      <td>2017-02-27</td>\n",
       "      <td>1.070609</td>\n",
       "      <td>718.50</td>\n",
       "      <td>2981.42</td>\n",
       "      <td>769.23</td>\n",
       "      <td>3076.93</td>\n",
       "    </tr>\n",
       "    <tr>\n",
       "      <th>9</th>\n",
       "      <td>2017-03-06</td>\n",
       "      <td>1.072840</td>\n",
       "      <td>717.00</td>\n",
       "      <td>2264.42</td>\n",
       "      <td>769.23</td>\n",
       "      <td>2307.70</td>\n",
       "    </tr>\n",
       "    <tr>\n",
       "      <th>10</th>\n",
       "      <td>2017-03-13</td>\n",
       "      <td>1.075046</td>\n",
       "      <td>715.53</td>\n",
       "      <td>1548.89</td>\n",
       "      <td>769.23</td>\n",
       "      <td>1538.47</td>\n",
       "    </tr>\n",
       "    <tr>\n",
       "      <th>11</th>\n",
       "      <td>2017-03-20</td>\n",
       "      <td>1.077226</td>\n",
       "      <td>714.08</td>\n",
       "      <td>834.81</td>\n",
       "      <td>769.23</td>\n",
       "      <td>769.24</td>\n",
       "    </tr>\n",
       "    <tr>\n",
       "      <th>12</th>\n",
       "      <td>2017-03-27</td>\n",
       "      <td>1.079381</td>\n",
       "      <td>712.67</td>\n",
       "      <td>122.14</td>\n",
       "      <td>769.24</td>\n",
       "      <td>0.00</td>\n",
       "    </tr>\n",
       "  </tbody>\n",
       "</table>\n",
       "</div>"
      ],
      "text/plain": [
       "          Date  Bench_Pred  Execution_Amount  Remaining_Resource  \\\n",
       "0   2017-01-02    1.051443            731.59             8773.41   \n",
       "1   2017-01-09    1.054140            729.72             8043.69   \n",
       "2   2017-01-16    1.056633            728.00             7315.69   \n",
       "3   2017-01-23    1.059047            726.34             6589.35   \n",
       "4   2017-01-30    1.061417            724.72             5864.63   \n",
       "5   2017-02-06    1.063756            723.13             5141.50   \n",
       "6   2017-02-13    1.066067            721.56             4419.94   \n",
       "7   2017-02-20    1.068351            720.02             3699.92   \n",
       "8   2017-02-27    1.070609            718.50             2981.42   \n",
       "9   2017-03-06    1.072840            717.00             2264.42   \n",
       "10  2017-03-13    1.075046            715.53             1548.89   \n",
       "11  2017-03-20    1.077226            714.08              834.81   \n",
       "12  2017-03-27    1.079381            712.67              122.14   \n",
       "\n",
       "    Executed_Task  Remaining_Task  \n",
       "0          769.23         9230.77  \n",
       "1          769.23         8461.54  \n",
       "2          769.23         7692.31  \n",
       "3          769.23         6923.08  \n",
       "4          769.23         6153.85  \n",
       "5          769.23         5384.62  \n",
       "6          769.23         4615.39  \n",
       "7          769.23         3846.16  \n",
       "8          769.23         3076.93  \n",
       "9          769.23         2307.70  \n",
       "10         769.23         1538.47  \n",
       "11         769.23          769.24  \n",
       "12         769.24            0.00  "
      ]
     },
     "execution_count": 26,
     "metadata": {},
     "output_type": "execute_result"
    }
   ],
   "source": [
    "obj_fr,resource = set_contract(plan_type='A',task=10000,cur_fr=cur_fr,std_lst=std_lst3m,predictions=pred_wk)\n",
    "scheduler = ObjectiveScheduler(resource=resource,task=10000,obj_fr=obj_fr,pred_table=fore_df)\n",
    "schedule = scheduler.make_schedule()\n",
    "schedule"
   ]
  },
  {
   "cell_type": "code",
   "execution_count": 27,
   "metadata": {},
   "outputs": [
    {
     "name": "stdout",
     "output_type": "stream",
     "text": [
      "Attainable Goal.\n",
      "Estimated Extra Saving for Customer:  122.14\n"
     ]
    }
   ],
   "source": [
    "scheduler.eval_obj()"
   ]
  },
  {
   "cell_type": "markdown",
   "metadata": {},
   "source": [
    "### Contract Execution\n",
    "Monitor and predict the exchange rate of 15 minute intervals. Make execution decision accordingly.\n",
    "Carry out the execution.\n"
   ]
  },
  {
   "cell_type": "code",
   "execution_count": 28,
   "metadata": {},
   "outputs": [],
   "source": [
    "class ExchangeExecutor(object):\n",
    "    def __init__(self,resource,task,obj_fr,pred_table,schedule):\n",
    "        self.resource = resource\n",
    "        self.task = task\n",
    "        self.obj_fr = obj_fr\n",
    "        self.pred_table = pred_table\n",
    "        self.schedule = schedule\n",
    "        #self.exe_table = pd.DataFrame({'Timestamp:'pred_table.index.values,'Execution_Amount':np.zeros(self.total),\n",
    "         #                              'Remaining_Resource':np.zeros(self.total),\n",
    "          #                             'Executed_Task':np.zeros(self.total),'Remaining_Task':np.zeros(self.total)})\n",
    "    def get_period(self,ordinal):\n",
    "        pred_df = self.pred_table\n",
    "        periods = self.schedule.Date.values\n",
    "        \n",
    "        if ordinal == len(periods)-1:\n",
    "            match_df = pred_df[pred_df.index>=periods[ordinal]]\n",
    "        else:\n",
    "            match_df = pred_df[pred_df.index>=periods[ordinal]]\n",
    "            match_df = match_df[match_df.index<periods[ordinal+1]]\n",
    "        return match_df\n",
    "    \n",
    "    def exchange_within_period(self,ordinal):\n",
    "        scheduled_task = self.schedule.loc[ordinal,'Executed_Task']\n",
    "        bench_fr = self.schedule.loc[ordinal,'Bench_Pred']\n",
    "        if ordinal==0:\n",
    "            past_task=0\n",
    "        else:\n",
    "            past_task = np.sum(self.schedule.Executed_Task.values[:ordinal])\n",
    "            \n",
    "        exe_amnt=0\n",
    "        rem_tsk=scheduled_task\n",
    "        \n",
    "        if scheduled_task==0:\n",
    "            rem_tsk=0\n",
    "            return exe_amnt\n",
    "        \n",
    "        pred_df = self.get_period(ordinal)\n",
    "        fr_monitor = iter(pred_df.close.values[1:-1])\n",
    "        predictor = iter(pred_df.predicted.values[2:])\n",
    "        #comparator= iter(pred_df.correct.values[:-2])\n",
    "        fluc_monitor = iter(pred_df['diff'].values[:-2])\n",
    "        model_monitor = iter(pred_df.lag1_mape.values[1:-1])\n",
    "        #error_monitor = iter(pred_df.error_to_range.values[:-2])\n",
    "        num_of_interv = len(pred_df)-2 \n",
    "        \n",
    "        for i in range(num_of_interv):\n",
    "            if rem_tsk==0:\n",
    "                break\n",
    "            cur_fr = fr_monitor.__next__()\n",
    "            pred_fr = predictor.__next__()\n",
    "            #correct = comparator.__next__()\n",
    "            diff = fluc_monitor.__next__()\n",
    "            lag1_mape = model_monitor.__next__()\n",
    "            conf = 0\n",
    "            if lag1_mape>1:\n",
    "                conf = 0\n",
    "            else:\n",
    "                conf = 1-lag1_mape\n",
    "            \n",
    "            exe_tsk=0\n",
    "            if i==num_of_interv-1:\n",
    "                exe_tsk = rem_tsk\n",
    "            else:\n",
    "                decision='Act'\n",
    "                if cur_fr<self.obj_fr and pred_fr>cur_fr:\n",
    "                    risk_fr = pred_fr-diff\n",
    "                    adj_pred = conf*pred_fr+(1-conf)*risk_fr\n",
    "                    if adj_pred>cur_fr:\n",
    "                        decision='Wait'\n",
    "                \n",
    "                base_tsk = np.round(max(scheduled_task/num_of_interv,1),2)\n",
    "                if decision=='Act':\n",
    "                    # condition below considers the worst situation: all past execution did not reach objective exchange rate\n",
    "                    adj_obj_fr = self.obj_fr*(1+(past_task+scheduled_task-rem_tsk)/self.task)\n",
    "                    if cur_fr>=adj_obj_fr:\n",
    "                        exe_tsk = rem_tsk\n",
    "                    \n",
    "                    elif bench_fr<=cur_fr<adj_obj_fr:\n",
    "                        adj_base_tsk = base_tsk*(1+(cur_fr-bench_fr)/(adj_obj_fr-bench_fr))\n",
    "                        exe_tsk = min(adj_base_tsk,rem_tsk)\n",
    "                    else:\n",
    "                        exe_tsk = min(base_tsk,rem_tsk)\n",
    "                \n",
    "            rem_tsk -= exe_tsk\n",
    "            exe_amnt += np.round(exe_tsk/cur_fr,2) \n",
    "        return exe_amnt,rem_tsk\n",
    "    \n",
    "    def execute(self):\n",
    "        task_left = 0\n",
    "        resource_left = self.resource\n",
    "        for ordinal in range(len(self.schedule)):\n",
    "            exe_amnt,rem_tsk = self.exchange_within_period(ordinal)\n",
    "            resource_left-=exe_amnt\n",
    "            task_left+=rem_tsk\n",
    "        return resource_left, task_left\n",
    "    \n",
    "    def eval_exe(self):\n",
    "        resource_left,task_left = self.execute()\n",
    "        if task_left>0:\n",
    "            print('Execution Error')\n",
    "            return\n",
    "        \n",
    "        if resource_left<0:\n",
    "            print('Contract Execution Finished.')\n",
    "            print('Loss Taken by Bank: ',-np.round(resource_left,2))\n",
    "        else:\n",
    "            print('Contract Execution Finished.')\n",
    "            print('Extra Saving for Customer: ',np.round(resource_left,2))\n",
    "        return        "
   ]
  },
  {
   "cell_type": "code",
   "execution_count": 29,
   "metadata": {},
   "outputs": [
    {
     "data": {
      "text/plain": [
       "(122.22000000003322, 0.0)"
      ]
     },
     "execution_count": 29,
     "metadata": {},
     "output_type": "execute_result"
    }
   ],
   "source": [
    "executor = ExchangeExecutor(resource=resource,task=10000,obj_fr=obj_fr,pred_table=pred_df,schedule=schedule)\n",
    "executor.execute()"
   ]
  },
  {
   "cell_type": "code",
   "execution_count": 30,
   "metadata": {},
   "outputs": [
    {
     "name": "stdout",
     "output_type": "stream",
     "text": [
      "Contract Execution Finished.\n",
      "Extra Saving for Customer:  122.22\n"
     ]
    }
   ],
   "source": [
    "executor.eval_exe()"
   ]
  },
  {
   "cell_type": "markdown",
   "metadata": {},
   "source": [
    "Total savings created for customer compared to the outcome if they choose to buy 10000 USD now.(The time value is omitted here.)"
   ]
  },
  {
   "cell_type": "code",
   "execution_count": 31,
   "metadata": {},
   "outputs": [
    {
     "data": {
      "text/plain": [
       "158.22"
      ]
     },
     "execution_count": 31,
     "metadata": {},
     "output_type": "execute_result"
    }
   ],
   "source": [
    "122.22+(9541-9505)"
   ]
  },
  {
   "cell_type": "markdown",
   "metadata": {},
   "source": [
    "Both scheduler and executor works well with the type A contract setting, now let's try it on type B contract setting."
   ]
  },
  {
   "cell_type": "code",
   "execution_count": 32,
   "metadata": {},
   "outputs": [
    {
     "data": {
      "text/html": [
       "<div>\n",
       "<style scoped>\n",
       "    .dataframe tbody tr th:only-of-type {\n",
       "        vertical-align: middle;\n",
       "    }\n",
       "\n",
       "    .dataframe tbody tr th {\n",
       "        vertical-align: top;\n",
       "    }\n",
       "\n",
       "    .dataframe thead th {\n",
       "        text-align: right;\n",
       "    }\n",
       "</style>\n",
       "<table border=\"1\" class=\"dataframe\">\n",
       "  <thead>\n",
       "    <tr style=\"text-align: right;\">\n",
       "      <th></th>\n",
       "      <th>Date</th>\n",
       "      <th>Bench_Pred</th>\n",
       "      <th>Execution_Amount</th>\n",
       "      <th>Remaining_Resource</th>\n",
       "      <th>Executed_Task</th>\n",
       "      <th>Remaining_Task</th>\n",
       "    </tr>\n",
       "  </thead>\n",
       "  <tbody>\n",
       "    <tr>\n",
       "      <th>0</th>\n",
       "      <td>2017-01-02</td>\n",
       "      <td>1.051443</td>\n",
       "      <td>247.02</td>\n",
       "      <td>9099.98</td>\n",
       "      <td>259.73</td>\n",
       "      <td>9740.27</td>\n",
       "    </tr>\n",
       "    <tr>\n",
       "      <th>1</th>\n",
       "      <td>2017-01-09</td>\n",
       "      <td>1.054140</td>\n",
       "      <td>316.85</td>\n",
       "      <td>8783.13</td>\n",
       "      <td>334.00</td>\n",
       "      <td>9406.27</td>\n",
       "    </tr>\n",
       "    <tr>\n",
       "      <th>2</th>\n",
       "      <td>2017-01-16</td>\n",
       "      <td>1.056633</td>\n",
       "      <td>381.05</td>\n",
       "      <td>8402.08</td>\n",
       "      <td>402.63</td>\n",
       "      <td>9003.64</td>\n",
       "    </tr>\n",
       "    <tr>\n",
       "      <th>3</th>\n",
       "      <td>2017-01-23</td>\n",
       "      <td>1.059047</td>\n",
       "      <td>442.93</td>\n",
       "      <td>7959.15</td>\n",
       "      <td>469.08</td>\n",
       "      <td>8534.56</td>\n",
       "    </tr>\n",
       "    <tr>\n",
       "      <th>4</th>\n",
       "      <td>2017-01-30</td>\n",
       "      <td>1.061417</td>\n",
       "      <td>724.72</td>\n",
       "      <td>7234.43</td>\n",
       "      <td>769.23</td>\n",
       "      <td>7765.33</td>\n",
       "    </tr>\n",
       "    <tr>\n",
       "      <th>5</th>\n",
       "      <td>2017-02-06</td>\n",
       "      <td>1.063756</td>\n",
       "      <td>723.13</td>\n",
       "      <td>6511.30</td>\n",
       "      <td>769.23</td>\n",
       "      <td>6996.10</td>\n",
       "    </tr>\n",
       "    <tr>\n",
       "      <th>6</th>\n",
       "      <td>2017-02-13</td>\n",
       "      <td>1.066067</td>\n",
       "      <td>721.56</td>\n",
       "      <td>5789.74</td>\n",
       "      <td>769.23</td>\n",
       "      <td>6226.87</td>\n",
       "    </tr>\n",
       "    <tr>\n",
       "      <th>7</th>\n",
       "      <td>2017-02-20</td>\n",
       "      <td>1.068351</td>\n",
       "      <td>720.02</td>\n",
       "      <td>5069.72</td>\n",
       "      <td>769.23</td>\n",
       "      <td>5457.64</td>\n",
       "    </tr>\n",
       "    <tr>\n",
       "      <th>8</th>\n",
       "      <td>2017-02-27</td>\n",
       "      <td>1.070609</td>\n",
       "      <td>718.50</td>\n",
       "      <td>4351.22</td>\n",
       "      <td>769.23</td>\n",
       "      <td>4688.41</td>\n",
       "    </tr>\n",
       "    <tr>\n",
       "      <th>9</th>\n",
       "      <td>2017-03-06</td>\n",
       "      <td>1.072840</td>\n",
       "      <td>717.00</td>\n",
       "      <td>3634.22</td>\n",
       "      <td>769.23</td>\n",
       "      <td>3919.18</td>\n",
       "    </tr>\n",
       "    <tr>\n",
       "      <th>10</th>\n",
       "      <td>2017-03-13</td>\n",
       "      <td>1.075046</td>\n",
       "      <td>715.53</td>\n",
       "      <td>2918.69</td>\n",
       "      <td>769.23</td>\n",
       "      <td>3149.95</td>\n",
       "    </tr>\n",
       "    <tr>\n",
       "      <th>11</th>\n",
       "      <td>2017-03-20</td>\n",
       "      <td>1.077226</td>\n",
       "      <td>714.08</td>\n",
       "      <td>2204.61</td>\n",
       "      <td>769.23</td>\n",
       "      <td>2380.72</td>\n",
       "    </tr>\n",
       "    <tr>\n",
       "      <th>12</th>\n",
       "      <td>2017-03-27</td>\n",
       "      <td>1.079381</td>\n",
       "      <td>2205.63</td>\n",
       "      <td>-1.02</td>\n",
       "      <td>2380.72</td>\n",
       "      <td>0.00</td>\n",
       "    </tr>\n",
       "  </tbody>\n",
       "</table>\n",
       "</div>"
      ],
      "text/plain": [
       "          Date  Bench_Pred  Execution_Amount  Remaining_Resource  \\\n",
       "0   2017-01-02    1.051443            247.02             9099.98   \n",
       "1   2017-01-09    1.054140            316.85             8783.13   \n",
       "2   2017-01-16    1.056633            381.05             8402.08   \n",
       "3   2017-01-23    1.059047            442.93             7959.15   \n",
       "4   2017-01-30    1.061417            724.72             7234.43   \n",
       "5   2017-02-06    1.063756            723.13             6511.30   \n",
       "6   2017-02-13    1.066067            721.56             5789.74   \n",
       "7   2017-02-20    1.068351            720.02             5069.72   \n",
       "8   2017-02-27    1.070609            718.50             4351.22   \n",
       "9   2017-03-06    1.072840            717.00             3634.22   \n",
       "10  2017-03-13    1.075046            715.53             2918.69   \n",
       "11  2017-03-20    1.077226            714.08             2204.61   \n",
       "12  2017-03-27    1.079381           2205.63               -1.02   \n",
       "\n",
       "    Executed_Task  Remaining_Task  \n",
       "0          259.73         9740.27  \n",
       "1          334.00         9406.27  \n",
       "2          402.63         9003.64  \n",
       "3          469.08         8534.56  \n",
       "4          769.23         7765.33  \n",
       "5          769.23         6996.10  \n",
       "6          769.23         6226.87  \n",
       "7          769.23         5457.64  \n",
       "8          769.23         4688.41  \n",
       "9          769.23         3919.18  \n",
       "10         769.23         3149.95  \n",
       "11         769.23         2380.72  \n",
       "12        2380.72            0.00  "
      ]
     },
     "execution_count": 32,
     "metadata": {},
     "output_type": "execute_result"
    }
   ],
   "source": [
    "obj_fr,resource = set_contract(plan_type='B',task=10000,cur_fr=cur_fr,std_lst=std_lst3m,predictions=pred_wk)\n",
    "scheduler = ObjectiveScheduler(resource=resource,task=10000,obj_fr=obj_fr,pred_table=fore_df)\n",
    "schedule = scheduler.make_schedule()\n",
    "schedule"
   ]
  },
  {
   "cell_type": "code",
   "execution_count": 33,
   "metadata": {},
   "outputs": [
    {
     "name": "stdout",
     "output_type": "stream",
     "text": [
      "Unattainable Goal. \n",
      "Estimated Loss Taken by Bank:  1.02\n"
     ]
    }
   ],
   "source": [
    "scheduler.eval_obj()"
   ]
  },
  {
   "cell_type": "code",
   "execution_count": 34,
   "metadata": {},
   "outputs": [
    {
     "data": {
      "text/plain": [
       "(-8.789999999998145, 0.0)"
      ]
     },
     "execution_count": 34,
     "metadata": {},
     "output_type": "execute_result"
    }
   ],
   "source": [
    "executor = ExchangeExecutor(resource=resource,task=10000,obj_fr=obj_fr,pred_table=pred_df,schedule=schedule)\n",
    "executor.execute()"
   ]
  },
  {
   "cell_type": "code",
   "execution_count": 35,
   "metadata": {},
   "outputs": [
    {
     "name": "stdout",
     "output_type": "stream",
     "text": [
      "Contract Execution Finished.\n",
      "Loss Taken by Bank:  8.79\n"
     ]
    }
   ],
   "source": [
    "executor.eval_exe()"
   ]
  },
  {
   "cell_type": "markdown",
   "metadata": {},
   "source": [
    "Total savings created for customer compared to the outcome if they choose to buy 10000 USD now.(The time value is omitted here.)"
   ]
  },
  {
   "cell_type": "code",
   "execution_count": 36,
   "metadata": {},
   "outputs": [
    {
     "data": {
      "text/plain": [
       "194"
      ]
     },
     "execution_count": 36,
     "metadata": {},
     "output_type": "execute_result"
    }
   ],
   "source": [
    "9541-9347"
   ]
  },
  {
   "cell_type": "markdown",
   "metadata": {},
   "source": [
    "When working on contract goal set by plan B, the scheduler and executor both generate loss for the bank: All Euro authorized by the customer for this contract is used up and the bank should spend extra 8.79 Euro by itself to return the guaranteed 10000 USD to the customer.\n",
    "There are four possible explanations for this loss: \n",
    "1. The goal set by plan B is too progressive and we need to adjust the parameter: e.g., from (0.75,0.25) to (0.7,0.3)\n",
    "2. The long-term prediction of eur-usd exchange rate is not acceptable and we need to use more accurate prediction to schedule the execution.\n",
    "3. Either the scheduler or the executor should be designed to be more progressive in chasing the better price.\n",
    "4. The outcome is acceptable. The loss is neglectible compared to the total execution amount; there is actually no loss for the bank in this case as the bank can charge at least 0.15% of the execution amount, which is 14.0205 EURO. And on the portfolio level, we don't know if the type B contract goal is acceptable or not.For this specific case, plan B creates more profit for customers than plan A, and benefits the bank in attracting customers.   "
   ]
  },
  {
   "cell_type": "markdown",
   "metadata": {},
   "source": [
    "### Future Improvement\n",
    "To test the model under various scenarios on abundant cases and adjust the formula/parameters according to its behavior on the portfolio level."
   ]
  }
 ],
 "metadata": {
  "kernelspec": {
   "display_name": "Python 3",
   "language": "python",
   "name": "python3"
  },
  "language_info": {
   "codemirror_mode": {
    "name": "ipython",
    "version": 3
   },
   "file_extension": ".py",
   "mimetype": "text/x-python",
   "name": "python",
   "nbconvert_exporter": "python",
   "pygments_lexer": "ipython3",
   "version": "3.7.1"
  }
 },
 "nbformat": 4,
 "nbformat_minor": 2
}
